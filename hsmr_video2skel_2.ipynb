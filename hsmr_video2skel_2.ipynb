{
  "cells": [
    {
      "cell_type": "code",
      "execution_count": 1,
      "metadata": {},
      "outputs": [
        {
          "name": "stdout",
          "output_type": "stream",
          "text": [
            "✅ Setup complete!\n",
            "📁 Input directory: ./GAVD-sequences\n",
            "📁 Output directory: ./GAVD-hsmr-params-full\n",
            "🎯 Target files: 1-893\n",
            "🎥 Total videos found: 1801\n"
          ]
        }
      ],
      "source": [
        "import os\n",
        "import sys\n",
        "import numpy as np\n",
        "from pathlib import Path\n",
        "import glob\n",
        "from tqdm import tqdm\n",
        "import time\n",
        "from typing import List, Tuple\n",
        "\n",
        "# Configuration\n",
        "GAVD_SEQUENCES_DIR = \"./GAVD-sequences\"\n",
        "OUTPUT_DIR = \"./GAVD-hsmr-params-full\"\n",
        "MAX_FILES = 893  # Process files 1-893\n",
        "\n",
        "# Create output directory\n",
        "os.makedirs(OUTPUT_DIR, exist_ok=True)\n",
        "\n",
        "print(f\"✅ Setup complete!\")\n",
        "print(f\"📁 Input directory: {GAVD_SEQUENCES_DIR}\")\n",
        "print(f\"📁 Output directory: {OUTPUT_DIR}\")\n",
        "print(f\"🎯 Target files: 1-{MAX_FILES}\")\n",
        "print(f\"🎥 Total videos found: {len(list(Path(GAVD_SEQUENCES_DIR).glob('*.mp4')))}\")\n"
      ]
    },
    {
      "cell_type": "raw",
      "metadata": {
        "vscode": {
          "languageId": "raw"
        }
      },
      "source": [
        "## Get Video Files and Sort Them\n"
      ]
    },
    {
      "cell_type": "code",
      "execution_count": 2,
      "metadata": {},
      "outputs": [
        {
          "name": "stdout",
          "output_type": "stream",
          "text": [
            "📼 Found 893 video files\n",
            "🎯 Will process first 893 files\n",
            "\n",
            "📋 First 10 files:\n",
            "    1. cljan9b4p00043n6ligceanyp.mp4\n",
            "    2. cljanb45y00083n6lmh1qhydd.mp4\n",
            "    3. cljao8kyf000d3n6l0x9kgmav.mp4\n",
            "    4. cljaoak47000i3n6lsrb9rit9.mp4\n",
            "    5. cljaob36l000m3n6l9xokjqww.mp4\n",
            "    6. cljaobtd0000q3n6lutd71mer.mp4\n",
            "    7. cljaocn4e000u3n6lgnrx469h.mp4\n",
            "    8. cljaodqnu000y3n6ltaisg7tz.mp4\n",
            "    9. cljaoebv700113n6lw01p9hl3.mp4\n",
            "   10. cljaof3ba00153n6lcr8af6bi.mp4\n",
            "  ... and 883 more files\n",
            "\n",
            "📋 Last 5 files (to be processed):\n",
            "  889. clk7wdvrc005o3n6lo9zqc9oz.mp4\n",
            "  890. clk7wescc005s3n6lwpgkwfkk.mp4\n",
            "  891. clk7wg3vw005x3n6lh068vbd3.mp4\n",
            "  892. clk7wguxr00613n6lcojvp2w1.mp4\n",
            "  893. clk7wi2pt00663n6lc98qnzvz.mp4\n"
          ]
        }
      ],
      "source": [
        "def get_sorted_video_files(video_dir: str, max_files: int = None) -> List[Path]:\n",
        "    \"\"\"\n",
        "    Get all video files from directory and sort them alphabetically.\n",
        "    \n",
        "    Args:\n",
        "        video_dir (str): Directory containing video files\n",
        "        max_files (int): Maximum number of files to return\n",
        "        \n",
        "    Returns:\n",
        "        List[Path]: Sorted list of video file paths\n",
        "    \"\"\"\n",
        "    video_files = list(Path(video_dir).glob('*.mp4'))\n",
        "    \n",
        "    # Sort alphabetically by filename\n",
        "    video_files.sort(key=lambda x: x.name)\n",
        "    \n",
        "    if max_files:\n",
        "        video_files = video_files[:max_files]\n",
        "    \n",
        "    return video_files\n",
        "\n",
        "# Get sorted list of video files\n",
        "video_files = get_sorted_video_files(GAVD_SEQUENCES_DIR, MAX_FILES)\n",
        "\n",
        "print(f\"📼 Found {len(video_files)} video files\")\n",
        "print(f\"🎯 Will process first {min(len(video_files), MAX_FILES)} files\")\n",
        "print(f\"\\n📋 First 10 files:\")\n",
        "for i, video in enumerate(video_files[:10], 1):\n",
        "    print(f\"  {i:3d}. {video.name}\")\n",
        "    \n",
        "if len(video_files) > 10:\n",
        "    print(f\"  ... and {len(video_files) - 10} more files\")\n",
        "    \n",
        "print(f\"\\n📋 Last 5 files (to be processed):\")\n",
        "for i, video in enumerate(video_files[-5:], len(video_files)-4):\n",
        "    print(f\"  {i:3d}. {video.name}\")\n"
      ]
    },
    {
      "cell_type": "raw",
      "metadata": {
        "vscode": {
          "languageId": "raw"
        }
      },
      "source": [
        "## Create Empty NPY Files\n",
        "\n",
        "Create empty `.npy` files with the HSMR naming convention for each video file.\n"
      ]
    },
    {
      "cell_type": "code",
      "execution_count": 3,
      "metadata": {},
      "outputs": [
        {
          "name": "stdout",
          "output_type": "stream",
          "text": [
            "🚀 Creating empty .npy files for 893 videos\n",
            "📁 Output directory: ./GAVD-hsmr-params-full\n",
            "============================================================\n"
          ]
        },
        {
          "name": "stderr",
          "output_type": "stream",
          "text": [
            "Creating .npy files:  37%|███▋      | 333/893 [00:00<00:00, 3324.75it/s]"
          ]
        },
        {
          "name": "stdout",
          "output_type": "stream",
          "text": [
            "✅ Progress: 100/893 (100 successful)\n",
            "✅ Progress: 200/893 (200 successful)\n",
            "✅ Progress: 300/893 (300 successful)\n",
            "✅ Progress: 400/893 (400 successful)\n",
            "✅ Progress: 500/893 (500 successful)\n",
            "✅ Progress: 600/893 (600 successful)\n"
          ]
        },
        {
          "name": "stderr",
          "output_type": "stream",
          "text": [
            "Creating .npy files:  75%|███████▍  | 666/893 [00:00<00:00, 3191.07it/s]"
          ]
        },
        {
          "name": "stdout",
          "output_type": "stream",
          "text": [
            "✅ Progress: 700/893 (700 successful)\n"
          ]
        },
        {
          "name": "stderr",
          "output_type": "stream",
          "text": [
            "Creating .npy files: 100%|██████████| 893/893 [00:00<00:00, 3150.20it/s]"
          ]
        },
        {
          "name": "stdout",
          "output_type": "stream",
          "text": [
            "✅ Progress: 800/893 (800 successful)\n",
            "\n",
            "============================================================\n",
            "📊 BATCH NPY FILE CREATION COMPLETE!\n",
            "============================================================\n",
            "📼 Total files processed: 893\n",
            "✅ Successful: 893\n",
            "❌ Failed: 0\n",
            "📁 Already existed: 0\n",
            "🆕 Newly created: 893\n",
            "⏱️ Total time: 0.29 seconds\n",
            "\n",
            "📁 Empty .npy files saved to: ./GAVD-hsmr-params-full\n",
            "📄 Total .npy files in directory: 893\n"
          ]
        },
        {
          "name": "stderr",
          "output_type": "stream",
          "text": [
            "\n"
          ]
        }
      ],
      "source": [
        "def create_empty_npy_file(video_path: Path, output_dir: Path) -> Tuple[bool, str, str]:\n",
        "    \"\"\"\n",
        "    Create an empty .npy file for a video file with HSMR naming convention.\n",
        "    \n",
        "    Args:\n",
        "        video_path (Path): Path to the video file\n",
        "        output_dir (Path): Directory to save the .npy file\n",
        "        \n",
        "    Returns:\n",
        "        Tuple[bool, str, str]: (success, output_path, error_message)\n",
        "    \"\"\"\n",
        "    try:\n",
        "        # Create output filename with HSMR prefix\n",
        "        output_filename = f\"HSMR-{video_path.stem}.npy\"\n",
        "        output_path = output_dir / output_filename\n",
        "        \n",
        "        # Check if file already exists\n",
        "        if output_path.exists():\n",
        "            return True, str(output_path), \"File already exists\"\n",
        "        \n",
        "        # Create empty numpy array (placeholder)\n",
        "        # This creates an empty array that can be replaced later with actual HSMR data\n",
        "        empty_data = np.array([], dtype=object)\n",
        "        \n",
        "        # Save the empty array\n",
        "        np.save(output_path, empty_data)\n",
        "        \n",
        "        return True, str(output_path), None\n",
        "        \n",
        "    except Exception as e:\n",
        "        return False, None, str(e)\n",
        "\n",
        "def batch_create_empty_npy_files(video_files: List[Path], output_dir: str) -> dict:\n",
        "    \"\"\"\n",
        "    Batch create empty .npy files for a list of video files.\n",
        "    \n",
        "    Args:\n",
        "        video_files (List[Path]): List of video file paths\n",
        "        output_dir (str): Directory to save .npy files\n",
        "        \n",
        "    Returns:\n",
        "        dict: Processing statistics and results\n",
        "    \"\"\"\n",
        "    output_path = Path(output_dir)\n",
        "    output_path.mkdir(exist_ok=True)\n",
        "    \n",
        "    print(f\"🚀 Creating empty .npy files for {len(video_files)} videos\")\n",
        "    print(f\"📁 Output directory: {output_dir}\")\n",
        "    print(\"=\" * 60)\n",
        "    \n",
        "    results = []\n",
        "    start_time = time.time()\n",
        "    \n",
        "    # Process with progress bar\n",
        "    for i, video_path in enumerate(tqdm(video_files, desc=\"Creating .npy files\"), 1):\n",
        "        success, output_file, error = create_empty_npy_file(video_path, output_path)\n",
        "        \n",
        "        results.append({\n",
        "            'video': video_path.name,\n",
        "            'success': success,\n",
        "            'output': output_file,\n",
        "            'error': error,\n",
        "            'index': i\n",
        "        })\n",
        "        \n",
        "        # Print periodic updates\n",
        "        if i % 100 == 0:\n",
        "            successful_so_far = sum(1 for r in results if r['success'])\n",
        "            print(f\"✅ Progress: {i}/{len(video_files)} ({successful_so_far} successful)\")\n",
        "    \n",
        "    end_time = time.time()\n",
        "    total_time = end_time - start_time\n",
        "    \n",
        "    # Calculate statistics\n",
        "    successful = sum(1 for r in results if r['success'])\n",
        "    failed = len(results) - successful\n",
        "    already_existed = sum(1 for r in results if r['success'] and r['error'] == \"File already exists\")\n",
        "    newly_created = successful - already_existed\n",
        "    \n",
        "    stats = {\n",
        "        'total_files': len(results),\n",
        "        'successful': successful,\n",
        "        'failed': failed,\n",
        "        'already_existed': already_existed,\n",
        "        'newly_created': newly_created,\n",
        "        'total_time_seconds': total_time,\n",
        "        'results': results\n",
        "    }\n",
        "    \n",
        "    return stats\n",
        "\n",
        "# Create empty .npy files\n",
        "creation_stats = batch_create_empty_npy_files(video_files, OUTPUT_DIR)\n",
        "\n",
        "print(\"\\n\" + \"=\"*60)\n",
        "print(\"📊 BATCH NPY FILE CREATION COMPLETE!\")\n",
        "print(\"=\"*60)\n",
        "print(f\"📼 Total files processed: {creation_stats['total_files']}\")\n",
        "print(f\"✅ Successful: {creation_stats['successful']}\")\n",
        "print(f\"❌ Failed: {creation_stats['failed']}\")\n",
        "print(f\"📁 Already existed: {creation_stats['already_existed']}\")\n",
        "print(f\"🆕 Newly created: {creation_stats['newly_created']}\")\n",
        "print(f\"⏱️ Total time: {creation_stats['total_time_seconds']:.2f} seconds\")\n",
        "\n",
        "if creation_stats['failed'] > 0:\n",
        "    print(f\"\\n❌ Failed files:\")\n",
        "    failed_files = [r for r in creation_stats['results'] if not r['success']]\n",
        "    for failed in failed_files[:10]:  # Show first 10 failures\n",
        "        print(f\"  - {failed['video']}: {failed['error']}\")\n",
        "    if len(failed_files) > 10:\n",
        "        print(f\"  ... and {len(failed_files) - 10} more failures\")\n",
        "\n",
        "print(f\"\\n📁 Empty .npy files saved to: {OUTPUT_DIR}\")\n",
        "output_files = list(Path(OUTPUT_DIR).glob('*.npy'))\n",
        "print(f\"📄 Total .npy files in directory: {len(output_files)}\")\n"
      ]
    },
    {
      "cell_type": "raw",
      "metadata": {
        "vscode": {
          "languageId": "raw"
        }
      },
      "source": [
        "## Verify Created Files\n"
      ]
    },
    {
      "cell_type": "code",
      "execution_count": 4,
      "metadata": {},
      "outputs": [
        {
          "name": "stdout",
          "output_type": "stream",
          "text": [
            "🔍 Verifying 893 .npy files...\n",
            "\n",
            "============================================================\n",
            "🔍 FILE VERIFICATION COMPLETE!\n",
            "============================================================\n",
            "📄 Total files: 893\n",
            "✅ Valid files: 893\n",
            "❌ Invalid files: 0\n",
            "💾 Total size: 0.23 MB\n",
            "📊 Average file size: 275 bytes\n",
            "\n",
            "📋 Sample files (first 10):\n",
            "   1. HSMR-cljan9b4p00043n6ligceanyp.npy (275 bytes, shape: (0,))\n",
            "   2. HSMR-cljanb45y00083n6lmh1qhydd.npy (275 bytes, shape: (0,))\n",
            "   3. HSMR-cljao8kyf000d3n6l0x9kgmav.npy (275 bytes, shape: (0,))\n",
            "   4. HSMR-cljaoak47000i3n6lsrb9rit9.npy (275 bytes, shape: (0,))\n",
            "   5. HSMR-cljaob36l000m3n6l9xokjqww.npy (275 bytes, shape: (0,))\n",
            "   6. HSMR-cljaobtd0000q3n6lutd71mer.npy (275 bytes, shape: (0,))\n",
            "   7. HSMR-cljaocn4e000u3n6lgnrx469h.npy (275 bytes, shape: (0,))\n",
            "   8. HSMR-cljaodqnu000y3n6ltaisg7tz.npy (275 bytes, shape: (0,))\n",
            "   9. HSMR-cljaoebv700113n6lw01p9hl3.npy (275 bytes, shape: (0,))\n",
            "  10. HSMR-cljaof3ba00153n6lcr8af6bi.npy (275 bytes, shape: (0,))\n",
            "  ... and 883 more files\n",
            "\n",
            "🎯 Success rate: 100.0%\n",
            "📁 Files ready for HSMR processing in: ./GAVD-hsmr-params-full\n"
          ]
        }
      ],
      "source": [
        "def verify_created_files(output_dir: str) -> dict:\n",
        "    \"\"\"\n",
        "    Verify the created .npy files and provide statistics.\n",
        "    \n",
        "    Args:\n",
        "        output_dir (str): Directory containing .npy files\n",
        "        \n",
        "    Returns:\n",
        "        dict: Verification statistics\n",
        "    \"\"\"\n",
        "    output_path = Path(output_dir)\n",
        "    npy_files = list(output_path.glob('*.npy'))\n",
        "    \n",
        "    print(f\"🔍 Verifying {len(npy_files)} .npy files...\")\n",
        "    \n",
        "    valid_files = []\n",
        "    invalid_files = []\n",
        "    total_size = 0\n",
        "    \n",
        "    for npy_file in npy_files:\n",
        "        try:\n",
        "            # Try to load the file\n",
        "            data = np.load(npy_file, allow_pickle=True)\n",
        "            file_size = npy_file.stat().st_size\n",
        "            total_size += file_size\n",
        "            \n",
        "            valid_files.append({\n",
        "                'name': npy_file.name,\n",
        "                'size_bytes': file_size,\n",
        "                'data_shape': data.shape,\n",
        "                'data_type': type(data).__name__\n",
        "            })\n",
        "            \n",
        "        except Exception as e:\n",
        "            invalid_files.append({\n",
        "                'name': npy_file.name,\n",
        "                'error': str(e)\n",
        "            })\n",
        "    \n",
        "    stats = {\n",
        "        'total_files': len(npy_files),\n",
        "        'valid_files': len(valid_files),\n",
        "        'invalid_files': len(invalid_files),\n",
        "        'total_size_bytes': total_size,\n",
        "        'total_size_mb': total_size / (1024 * 1024),\n",
        "        'valid_file_details': valid_files,\n",
        "        'invalid_file_details': invalid_files\n",
        "    }\n",
        "    \n",
        "    return stats\n",
        "\n",
        "# Verify the created files\n",
        "verification_stats = verify_created_files(OUTPUT_DIR)\n",
        "\n",
        "print(\"\\n\" + \"=\"*60)\n",
        "print(\"🔍 FILE VERIFICATION COMPLETE!\")\n",
        "print(\"=\"*60)\n",
        "print(f\"📄 Total files: {verification_stats['total_files']}\")\n",
        "print(f\"✅ Valid files: {verification_stats['valid_files']}\")\n",
        "print(f\"❌ Invalid files: {verification_stats['invalid_files']}\")\n",
        "print(f\"💾 Total size: {verification_stats['total_size_mb']:.2f} MB\")\n",
        "\n",
        "if verification_stats['valid_files'] > 0:\n",
        "    avg_size = verification_stats['total_size_bytes'] / verification_stats['valid_files']\n",
        "    print(f\"📊 Average file size: {avg_size:.0f} bytes\")\n",
        "    \n",
        "    print(f\"\\n📋 Sample files (first 10):\")\n",
        "    for i, file_info in enumerate(verification_stats['valid_file_details'][:10], 1):\n",
        "        print(f\"  {i:2d}. {file_info['name']} ({file_info['size_bytes']} bytes, shape: {file_info['data_shape']})\")\n",
        "        \n",
        "    if len(verification_stats['valid_file_details']) > 10:\n",
        "        print(f\"  ... and {len(verification_stats['valid_file_details']) - 10} more files\")\n",
        "\n",
        "if verification_stats['invalid_files'] > 0:\n",
        "    print(f\"\\n❌ Invalid files:\")\n",
        "    for file_info in verification_stats['invalid_file_details']:\n",
        "        print(f\"  - {file_info['name']}: {file_info['error']}\")\n",
        "\n",
        "print(f\"\\n🎯 Success rate: {verification_stats['valid_files']/verification_stats['total_files']*100:.1f}%\")\n",
        "print(f\"📁 Files ready for HSMR processing in: {OUTPUT_DIR}\")\n"
      ]
    },
    {
      "cell_type": "raw",
      "metadata": {
        "vscode": {
          "languageId": "raw"
        }
      },
      "source": [
        "## Summary and Next Steps\n"
      ]
    },
    {
      "cell_type": "code",
      "execution_count": null,
      "metadata": {},
      "outputs": [],
      "source": [
        "print(\"\\n\" + \"=\"*80)\n",
        "print(\"🎉 GAVD HSMR PARAMETER FILE PREPARATION COMPLETE!\")\n",
        "print(\"=\"*80)\n",
        "\n",
        "print(f\"\\n📊 Summary:\")\n",
        "print(f\"  🎯 Target files (1-{MAX_FILES}): {len(video_files)} processed\")\n",
        "print(f\"  ✅ Empty .npy files created: {verification_stats['valid_files']}\")\n",
        "print(f\"  📁 Output directory: {OUTPUT_DIR}\")\n",
        "print(f\"  💾 Total size: {verification_stats['total_size_mb']:.2f} MB\")\n",
        "\n",
        "print(f\"\\n🔄 Next Steps:\")\n",
        "print(f\"  1. The empty .npy files are now ready in '{OUTPUT_DIR}'\")\n",
        "print(f\"  2. You can now run HSMR processing on these files\")\n",
        "print(f\"  3. The HSMR processing will replace the empty arrays with actual skeleton data\")\n",
        "print(f\"  4. Each .npy file follows the naming convention: HSMR-<sequence_id>.npy\")\n",
        "\n",
        "print(f\"\\n💡 File Structure:\")\n",
        "print(f\"  📁 Input videos: {GAVD_SEQUENCES_DIR}\")\n",
        "print(f\"  📁 Output .npy files: {OUTPUT_DIR}\")\n",
        "print(f\"  📄 Naming pattern: HSMR-<video_name_without_extension>.npy\")\n",
        "\n",
        "print(f\"\\n✨ Ready for HSMR processing!\")\n",
        "print(\"=\"*80)\n"
      ]
    }
  ],
  "metadata": {
    "kernelspec": {
      "display_name": "hsmr",
      "language": "python",
      "name": "python3"
    },
    "language_info": {
      "codemirror_mode": {
        "name": "ipython",
        "version": 3
      },
      "file_extension": ".py",
      "mimetype": "text/x-python",
      "name": "python",
      "nbconvert_exporter": "python",
      "pygments_lexer": "ipython3",
      "version": "3.10.18"
    }
  },
  "nbformat": 4,
  "nbformat_minor": 2
}
